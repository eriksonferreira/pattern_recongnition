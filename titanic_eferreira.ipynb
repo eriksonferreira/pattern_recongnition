{
  "cells": [
    {
      "cell_type": "markdown",
      "metadata": {
        "id": "view-in-github",
        "colab_type": "text"
      },
      "source": [
        "<a href=\"https://colab.research.google.com/github/eriksonferreira/pattern_recongnition/blob/main/titanic_eferreira.ipynb\" target=\"_parent\"><img src=\"https://colab.research.google.com/assets/colab-badge.svg\" alt=\"Open In Colab\"/></a>"
      ]
    },
    {
      "cell_type": "code",
      "execution_count": null,
      "metadata": {
        "id": "sN9M_Qdm3lcK"
      },
      "outputs": [],
      "source": [
        "import pandas as pd\n",
        "import numpy as np\n",
        "from sklearn.model_selection import train_test_split\n",
        "from sklearn.preprocessing import StandardScaler\n",
        "from sklearn.metrics import accuracy_score\n",
        "import xgboost as xgb"
      ]
    },
    {
      "cell_type": "code",
      "source": [
        "train_data = pd.read_csv('train.csv')\n",
        "test_data = pd.read_csv('test.csv')"
      ],
      "metadata": {
        "id": "-IecAS8RQYIt"
      },
      "execution_count": null,
      "outputs": []
    },
    {
      "cell_type": "code",
      "source": [
        "#pre-processamento\n",
        "def preprocess_data(data):\n",
        "    #preenchendo com a mediana\n",
        "    data['Age'].fillna(data['Age'].median(), inplace=True)\n",
        "    data['Fare'].fillna(data['Fare'].median(), inplace=True)\n",
        "    data['Embarked'].fillna(data['Embarked'].mode()[0], inplace=True)\n",
        "\n",
        "    #adicionando novas features como o título, tamanho da família e se a pessoa está sozinha ou não.\n",
        "    data['Title'] = data['Name'].apply(lambda x: x.split(',')[1].split('.')[0].strip())\n",
        "    data['FamilySize'] = data['SibSp'] + data['Parch']\n",
        "    data['IsAlone'] = (data['FamilySize'] == 0).astype(int)\n",
        "\n",
        "    #convertendo strings categorizadas em numeros\n",
        "    data['Sex'] = data['Sex'].map({'male': 0, 'female': 1})\n",
        "    data['Embarked'] = data['Embarked'].map({'S': 0, 'C': 1, 'Q': 2})\n",
        "    title_mapping = {\"Mr\": 0, \"Miss\": 1, \"Mrs\": 2, \"Master\": 3, \"Dr\": 4, \"Rev\": 5, \"Col\": 6, \"Mlle\": 7, \"Mme\": 8, \"Major\": 9, \"Countess\": 10, \"Ms\": 11, \"Sir\": 12, \"Capt\": 13, \"Jonkheer\": 14, \"Lady\": 15, \"Don\": 16, \"Dona\": 17}\n",
        "    data['Title'] = data['Title'].map(title_mapping)\n",
        "    data['Title'].fillna(0, inplace=True)\n",
        "\n",
        "    #selecionando as features relevantes\n",
        "    features = ['Pclass', 'Sex', 'Age', 'SibSp', 'Parch', 'Fare', 'Embarked', 'FamilySize', 'Title', 'IsAlone']\n",
        "    return data[features]\n"
      ],
      "metadata": {
        "id": "iX8PAqPaQbbk"
      },
      "execution_count": null,
      "outputs": []
    },
    {
      "cell_type": "code",
      "source": [
        "X = preprocess_data(train_data)\n",
        "y = train_data['Survived']"
      ],
      "metadata": {
        "id": "QCJYpc2tQc5Q"
      },
      "execution_count": null,
      "outputs": []
    },
    {
      "cell_type": "code",
      "source": [
        "#normalizando\n",
        "scaler = StandardScaler()\n",
        "X = scaler.fit_transform(X)"
      ],
      "metadata": {
        "id": "SO1lv4hQQfM6"
      },
      "execution_count": null,
      "outputs": []
    },
    {
      "cell_type": "code",
      "source": [
        "#divisão treino, val e teste\n",
        "X_train, X_val, y_train, y_val = train_test_split(X, y, test_size=0.2, random_state=42)"
      ],
      "metadata": {
        "id": "iFnV57A6QhiD"
      },
      "execution_count": null,
      "outputs": []
    },
    {
      "cell_type": "code",
      "source": [
        "#treinando um modelo XGBoost\n",
        "model = xgb.XGBClassifier(objective ='binary:logistic', colsample_bytree = 0.3, learning_rate = 0.1, max_depth = 5, alpha = 10, n_estimators = 100)\n",
        "model.fit(X_train, y_train)"
      ],
      "metadata": {
        "colab": {
          "base_uri": "https://localhost:8080/",
          "height": 248
        },
        "id": "p3ECgvPrQirC",
        "outputId": "647725b5-e650-4f9a-8e3e-7c76994beb2f"
      },
      "execution_count": null,
      "outputs": [
        {
          "output_type": "execute_result",
          "data": {
            "text/plain": [
              "XGBClassifier(alpha=10, base_score=None, booster=None, callbacks=None,\n",
              "              colsample_bylevel=None, colsample_bynode=None,\n",
              "              colsample_bytree=0.3, device=None, early_stopping_rounds=None,\n",
              "              enable_categorical=False, eval_metric=None, feature_types=None,\n",
              "              gamma=None, grow_policy=None, importance_type=None,\n",
              "              interaction_constraints=None, learning_rate=0.1, max_bin=None,\n",
              "              max_cat_threshold=None, max_cat_to_onehot=None,\n",
              "              max_delta_step=None, max_depth=5, max_leaves=None,\n",
              "              min_child_weight=None, missing=nan, monotone_constraints=None,\n",
              "              multi_strategy=None, n_estimators=100, n_jobs=None,\n",
              "              num_parallel_tree=None, ...)"
            ],
            "text/html": [
              "<style>#sk-container-id-1 {color: black;background-color: white;}#sk-container-id-1 pre{padding: 0;}#sk-container-id-1 div.sk-toggleable {background-color: white;}#sk-container-id-1 label.sk-toggleable__label {cursor: pointer;display: block;width: 100%;margin-bottom: 0;padding: 0.3em;box-sizing: border-box;text-align: center;}#sk-container-id-1 label.sk-toggleable__label-arrow:before {content: \"▸\";float: left;margin-right: 0.25em;color: #696969;}#sk-container-id-1 label.sk-toggleable__label-arrow:hover:before {color: black;}#sk-container-id-1 div.sk-estimator:hover label.sk-toggleable__label-arrow:before {color: black;}#sk-container-id-1 div.sk-toggleable__content {max-height: 0;max-width: 0;overflow: hidden;text-align: left;background-color: #f0f8ff;}#sk-container-id-1 div.sk-toggleable__content pre {margin: 0.2em;color: black;border-radius: 0.25em;background-color: #f0f8ff;}#sk-container-id-1 input.sk-toggleable__control:checked~div.sk-toggleable__content {max-height: 200px;max-width: 100%;overflow: auto;}#sk-container-id-1 input.sk-toggleable__control:checked~label.sk-toggleable__label-arrow:before {content: \"▾\";}#sk-container-id-1 div.sk-estimator input.sk-toggleable__control:checked~label.sk-toggleable__label {background-color: #d4ebff;}#sk-container-id-1 div.sk-label input.sk-toggleable__control:checked~label.sk-toggleable__label {background-color: #d4ebff;}#sk-container-id-1 input.sk-hidden--visually {border: 0;clip: rect(1px 1px 1px 1px);clip: rect(1px, 1px, 1px, 1px);height: 1px;margin: -1px;overflow: hidden;padding: 0;position: absolute;width: 1px;}#sk-container-id-1 div.sk-estimator {font-family: monospace;background-color: #f0f8ff;border: 1px dotted black;border-radius: 0.25em;box-sizing: border-box;margin-bottom: 0.5em;}#sk-container-id-1 div.sk-estimator:hover {background-color: #d4ebff;}#sk-container-id-1 div.sk-parallel-item::after {content: \"\";width: 100%;border-bottom: 1px solid gray;flex-grow: 1;}#sk-container-id-1 div.sk-label:hover label.sk-toggleable__label {background-color: #d4ebff;}#sk-container-id-1 div.sk-serial::before {content: \"\";position: absolute;border-left: 1px solid gray;box-sizing: border-box;top: 0;bottom: 0;left: 50%;z-index: 0;}#sk-container-id-1 div.sk-serial {display: flex;flex-direction: column;align-items: center;background-color: white;padding-right: 0.2em;padding-left: 0.2em;position: relative;}#sk-container-id-1 div.sk-item {position: relative;z-index: 1;}#sk-container-id-1 div.sk-parallel {display: flex;align-items: stretch;justify-content: center;background-color: white;position: relative;}#sk-container-id-1 div.sk-item::before, #sk-container-id-1 div.sk-parallel-item::before {content: \"\";position: absolute;border-left: 1px solid gray;box-sizing: border-box;top: 0;bottom: 0;left: 50%;z-index: -1;}#sk-container-id-1 div.sk-parallel-item {display: flex;flex-direction: column;z-index: 1;position: relative;background-color: white;}#sk-container-id-1 div.sk-parallel-item:first-child::after {align-self: flex-end;width: 50%;}#sk-container-id-1 div.sk-parallel-item:last-child::after {align-self: flex-start;width: 50%;}#sk-container-id-1 div.sk-parallel-item:only-child::after {width: 0;}#sk-container-id-1 div.sk-dashed-wrapped {border: 1px dashed gray;margin: 0 0.4em 0.5em 0.4em;box-sizing: border-box;padding-bottom: 0.4em;background-color: white;}#sk-container-id-1 div.sk-label label {font-family: monospace;font-weight: bold;display: inline-block;line-height: 1.2em;}#sk-container-id-1 div.sk-label-container {text-align: center;}#sk-container-id-1 div.sk-container {/* jupyter's `normalize.less` sets `[hidden] { display: none; }` but bootstrap.min.css set `[hidden] { display: none !important; }` so we also need the `!important` here to be able to override the default hidden behavior on the sphinx rendered scikit-learn.org. See: https://github.com/scikit-learn/scikit-learn/issues/21755 */display: inline-block !important;position: relative;}#sk-container-id-1 div.sk-text-repr-fallback {display: none;}</style><div id=\"sk-container-id-1\" class=\"sk-top-container\"><div class=\"sk-text-repr-fallback\"><pre>XGBClassifier(alpha=10, base_score=None, booster=None, callbacks=None,\n",
              "              colsample_bylevel=None, colsample_bynode=None,\n",
              "              colsample_bytree=0.3, device=None, early_stopping_rounds=None,\n",
              "              enable_categorical=False, eval_metric=None, feature_types=None,\n",
              "              gamma=None, grow_policy=None, importance_type=None,\n",
              "              interaction_constraints=None, learning_rate=0.1, max_bin=None,\n",
              "              max_cat_threshold=None, max_cat_to_onehot=None,\n",
              "              max_delta_step=None, max_depth=5, max_leaves=None,\n",
              "              min_child_weight=None, missing=nan, monotone_constraints=None,\n",
              "              multi_strategy=None, n_estimators=100, n_jobs=None,\n",
              "              num_parallel_tree=None, ...)</pre><b>In a Jupyter environment, please rerun this cell to show the HTML representation or trust the notebook. <br />On GitHub, the HTML representation is unable to render, please try loading this page with nbviewer.org.</b></div><div class=\"sk-container\" hidden><div class=\"sk-item\"><div class=\"sk-estimator sk-toggleable\"><input class=\"sk-toggleable__control sk-hidden--visually\" id=\"sk-estimator-id-1\" type=\"checkbox\" checked><label for=\"sk-estimator-id-1\" class=\"sk-toggleable__label sk-toggleable__label-arrow\">XGBClassifier</label><div class=\"sk-toggleable__content\"><pre>XGBClassifier(alpha=10, base_score=None, booster=None, callbacks=None,\n",
              "              colsample_bylevel=None, colsample_bynode=None,\n",
              "              colsample_bytree=0.3, device=None, early_stopping_rounds=None,\n",
              "              enable_categorical=False, eval_metric=None, feature_types=None,\n",
              "              gamma=None, grow_policy=None, importance_type=None,\n",
              "              interaction_constraints=None, learning_rate=0.1, max_bin=None,\n",
              "              max_cat_threshold=None, max_cat_to_onehot=None,\n",
              "              max_delta_step=None, max_depth=5, max_leaves=None,\n",
              "              min_child_weight=None, missing=nan, monotone_constraints=None,\n",
              "              multi_strategy=None, n_estimators=100, n_jobs=None,\n",
              "              num_parallel_tree=None, ...)</pre></div></div></div></div></div>"
            ]
          },
          "metadata": {},
          "execution_count": 13
        }
      ]
    },
    {
      "cell_type": "code",
      "source": [
        "#avaliação com test set passado pelos autores\n",
        "y_pred = model.predict(X_val)\n",
        "accuracy = accuracy_score(y_val, y_pred)\n",
        "print(f\"Acurácia: {accuracy:.4f}\")\n"
      ],
      "metadata": {
        "colab": {
          "base_uri": "https://localhost:8080/"
        },
        "id": "_pHY48diQkAq",
        "outputId": "91167f3e-f77b-4988-987b-624c8c45e359"
      },
      "execution_count": null,
      "outputs": [
        {
          "output_type": "stream",
          "name": "stdout",
          "text": [
            "Acurácia: 0.8045\n"
          ]
        }
      ]
    },
    {
      "cell_type": "code",
      "source": [
        "#fazendo as previsões com o modelo\n",
        "X_test = preprocess_data(test_data)\n",
        "X_test = scaler.transform(X_test)\n",
        "predictions = model.predict(X_test)"
      ],
      "metadata": {
        "id": "3Fq2NwJiQm-J"
      },
      "execution_count": null,
      "outputs": []
    },
    {
      "cell_type": "code",
      "source": [
        "#salvando csv para realizar input no site kaggle com formato especificado\n",
        "output = pd.DataFrame({'PassengerId': test_data['PassengerId'], 'Survived': predictions})\n",
        "output = output[['PassengerId', 'Survived']]\n",
        "output.to_csv('submission_xgboost.csv', index=False)"
      ],
      "metadata": {
        "id": "c1rSGAk_QoPc"
      },
      "execution_count": null,
      "outputs": []
    },
    {
      "cell_type": "markdown",
      "source": [
        "![Captura de tela 2023-10-16 225845.png](data:image/png;base64,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)"
      ],
      "metadata": {
        "id": "MNGriNPRW4lV"
      }
    },
    {
      "cell_type": "code",
      "source": [
        "score = 0.79186\n",
        "(score-0.65)*125\n"
      ],
      "metadata": {
        "colab": {
          "base_uri": "https://localhost:8080/"
        },
        "id": "WIKsPBqoW-pU",
        "outputId": "c880db21-3e9b-4351-9a7e-8ff429d3ec04"
      },
      "execution_count": null,
      "outputs": [
        {
          "output_type": "execute_result",
          "data": {
            "text/plain": [
              "17.732499999999998"
            ]
          },
          "metadata": {},
          "execution_count": 17
        }
      ]
    }
  ],
  "metadata": {
    "colab": {
      "provenance": [],
      "include_colab_link": true
    },
    "kernelspec": {
      "display_name": "Python 3",
      "name": "python3"
    },
    "language_info": {
      "name": "python"
    }
  },
  "nbformat": 4,
  "nbformat_minor": 0
}